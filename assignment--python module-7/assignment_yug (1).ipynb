{
  "cells": [
    {
      "cell_type": "markdown",
      "id": "3ae7879c",
      "metadata": {
        "id": "3ae7879c"
      },
      "source": [
        "1) What are the types of Applications ? \\\n",
        "Ans. Appliaction are computer programs designed  to perform specific task. They are mainly of the following \n",
        "types:  1. web Application\n",
        "        2. desktop Applications\n",
        "        3. gameing Applications\n",
        "        4. mobile Applications \n",
        "        5. Scientific & Data Analysis Applications \n",
        "\n",
        "\n",
        "2) What is programing ? \\\n",
        "Ans. Programming is the process of writing instructions (code) that a computer can understand and execute to perform a specific task. It uses programming languages like Python, Java, or C. \n",
        "\n",
        "\n",
        "3) What is Python? \\\n",
        "Ans. Python is a high-level, interpreted, and object-oriented programming language. Widely used in web development, data science, artificial intelligence, machine learning, automation, and more."
      ]
    },
    {
      "cell_type": "markdown",
      "id": "8c0d879f",
      "metadata": {
        "id": "8c0d879f"
      },
      "source": [
        "4) Write a Python program to check if a number is positive, negative or zero."
      ]
    },
    {
      "cell_type": "code",
      "execution_count": 1,
      "id": "72a21cba",
      "metadata": {
        "colab": {
          "base_uri": "https://localhost:8080/"
        },
        "id": "72a21cba",
        "outputId": "31a8977e-8789-47f6-c5cc-f7c346d1dbd6"
      },
      "outputs": [
        {
          "name": "stdout",
          "output_type": "stream",
          "text": [
            "number is positive\n"
          ]
        }
      ],
      "source": [
        "num = int(input(\"enter the number\"))\n",
        "\n",
        "if num == 0:\n",
        "    print(\"number is zero\")\n",
        "elif  num > 0:\n",
        "    print(\"number is positive\")\n",
        "else:\n",
        "    print(\"number is negative\")\n"
      ]
    },
    {
      "cell_type": "markdown",
      "id": "cdf75c93",
      "metadata": {
        "id": "cdf75c93"
      },
      "source": [
        "5)\tWrite a Python program to get the Factorial number of given numbers."
      ]
    },
    {
      "cell_type": "code",
      "execution_count": null,
      "id": "fedf29b2",
      "metadata": {
        "colab": {
          "base_uri": "https://localhost:8080/"
        },
        "id": "fedf29b2",
        "outputId": "6830c373-97ae-4bf8-a1fe-5cd0f4e9d804"
      },
      "outputs": [
        {
          "name": "stdout",
          "output_type": "stream",
          "text": [
            "enter the number10\n",
            "the factorial of 10 is 3628800\n"
          ]
        }
      ],
      "source": [
        "num = int(input(\"enter the number\"))\n",
        "if num>0:\n",
        "    fac=1\n",
        "    for i in range(1,num+1):\n",
        "        fac*=i\n",
        "    print(f\"the factorial of {num} is {fac}\")\n"
      ]
    },
    {
      "cell_type": "markdown",
      "id": "f6d14370",
      "metadata": {
        "id": "f6d14370"
      },
      "source": [
        "6)\tWrite a Python program to get the Fibonacci series of given range."
      ]
    },
    {
      "cell_type": "code",
      "execution_count": null,
      "id": "bcc22c94",
      "metadata": {
        "colab": {
          "base_uri": "https://localhost:8080/"
        },
        "id": "bcc22c94",
        "outputId": "344a2d06-6fd7-47d8-9e68-6efc5e21eb9a"
      },
      "outputs": [
        {
          "name": "stdout",
          "output_type": "stream",
          "text": [
            "enter the number10\n",
            "0 1 1 2 3 5 8 13 21 34 "
          ]
        }
      ],
      "source": [
        "num = int(input(\"enter the number\"))\n",
        "no1=0\n",
        "no2=1\n",
        "for i in range(1,num+1):\n",
        "    print(no1,end=\" \")\n",
        "    no3=no1+no2\n",
        "    no1=no2\n",
        "    no2=no3\n",
        "\n",
        "\n",
        "\n"
      ]
    },
    {
      "cell_type": "markdown",
      "id": "64723388",
      "metadata": {
        "id": "64723388"
      },
      "source": [
        "7)\tHow memory is managed in Python?\n",
        "Ans. Python uses a private heap memory to store all objects and data structures. The Python Memory Manager allocates memory, and Garbage Collector automatically frees memory by removing unused objects. This ensures efficient memory management  \n",
        "\n",
        "\n",
        "8)\tWhat is the purpose continuing statement in python?\n",
        "Ans. The continue statement is used inside loops. It skips the current iteration and moves to the next iteration of the loop without executing the remaining code of that iteration."
      ]
    },
    {
      "cell_type": "markdown",
      "id": "ce2655cc",
      "metadata": {
        "id": "ce2655cc"
      },
      "source": [
        "9)\tWrite python program that swap two number with temp variable and without temp variable"
      ]
    },
    {
      "cell_type": "code",
      "execution_count": null,
      "id": "cbca9c91",
      "metadata": {
        "colab": {
          "base_uri": "https://localhost:8080/"
        },
        "id": "cbca9c91",
        "outputId": "daf838d5-501b-4691-e641-7ecb4c77ad7b"
      },
      "outputs": [
        {
          "name": "stdout",
          "output_type": "stream",
          "text": [
            "before swapping 5 6\n",
            "after swapping 6 5\n",
            "before swapping without temp 2 6\n",
            "after swapping without temp 6 2\n"
          ]
        }
      ],
      "source": [
        "a=5\n",
        "b=6\n",
        "print(\"before swapping\",a,b)\n",
        "temp=a\n",
        "a=b\n",
        "b=temp\n",
        "print(\"after swapping\",a,b)\n",
        "\n",
        "x=2\n",
        "y=6\n",
        "print(\"before swapping without temp\",x,y)\n",
        "x,y=y,x\n",
        "print(\"after swapping without temp\",x,y)\n"
      ]
    },
    {
      "cell_type": "markdown",
      "id": "EuO_b28Ilu32",
      "metadata": {
        "id": "EuO_b28Ilu32"
      },
      "source": [
        "10. Write a Python program to find whether a given number is even or odd, print out an appropriate message to the user."
      ]
    },
    {
      "cell_type": "code",
      "execution_count": null,
      "id": "f510654b",
      "metadata": {
        "colab": {
          "base_uri": "https://localhost:8080/"
        },
        "id": "f510654b",
        "outputId": "e9d2dbc7-884b-40cc-bdf0-3517661fa4f2"
      },
      "outputs": [
        {
          "name": "stdout",
          "output_type": "stream",
          "text": [
            "enter the number2\n",
            "number 2 is even\n"
          ]
        }
      ],
      "source": [
        "num = int(input(\"enter the number\"))\n",
        "if num%2 == 0:\n",
        "    print(f\"number {num} is even\")\n",
        "else:\n",
        "    print(f\"number {num} is even\")"
      ]
    },
    {
      "cell_type": "markdown",
      "id": "edd901af",
      "metadata": {
        "id": "edd901af"
      },
      "source": [
        "11)\tWrite a Python program to test whether a passed letter is a vowel or not."
      ]
    },
    {
      "cell_type": "code",
      "execution_count": null,
      "id": "04652434",
      "metadata": {
        "colab": {
          "base_uri": "https://localhost:8080/"
        },
        "id": "04652434",
        "outputId": "a5ba69e7-4e2a-4664-c9d5-23fc5c97ffc9"
      },
      "outputs": [
        {
          "name": "stdout",
          "output_type": "stream",
          "text": [
            "enter the only one lattero\n",
            "o is a vowel.\n"
          ]
        }
      ],
      "source": [
        "\n",
        "letter = input(\"enter the only one latter\").lower()\n",
        "\n",
        "\n",
        "if letter in ['a','e','i','o','u']:\n",
        "    print(f\"{letter} is a vowel.\")\n",
        "else:\n",
        "    print(f\"{letter} is not vowel\")\n",
        "\n",
        "\n",
        "\n",
        "\n",
        "\n",
        "\n",
        "\n"
      ]
    },
    {
      "cell_type": "markdown",
      "id": "60a8e947",
      "metadata": {
        "id": "60a8e947"
      },
      "source": [
        "12)\tWrite a Python program to sum of three given integers. However, if two values are equal sum will be zero."
      ]
    },
    {
      "cell_type": "code",
      "execution_count": null,
      "id": "94570ed7",
      "metadata": {
        "colab": {
          "base_uri": "https://localhost:8080/"
        },
        "id": "94570ed7",
        "outputId": "935db693-9f25-4382-af86-64481bfe06cc"
      },
      "outputs": [
        {
          "name": "stdout",
          "output_type": "stream",
          "text": [
            "Enter first integer: 1\n",
            "Enter second integer: 1\n",
            "Enter third integer: 2\n",
            "Result: 0\n"
          ]
        }
      ],
      "source": [
        "def sum_of_three(x, y, z):\n",
        "    if x == y or y == z or x == z:\n",
        "        return 0\n",
        "    else:\n",
        "        return x + y + z\n",
        "\n",
        "a = int(input(\"Enter first integer: \"))\n",
        "b = int(input(\"Enter second integer: \"))\n",
        "c = int(input(\"Enter third integer: \"))\n",
        "\n",
        "result = sum_of_three(a, b, c)\n",
        "print(\"Result:\", result)"
      ]
    },
    {
      "cell_type": "markdown",
      "id": "b3054b7f",
      "metadata": {
        "id": "b3054b7f"
      },
      "source": [
        "13)\tWrite a Python program that will return true if the two given integer values are equal or their sum or difference is 5.\n"
      ]
    },
    {
      "cell_type": "code",
      "execution_count": null,
      "id": "7a2320de",
      "metadata": {
        "colab": {
          "base_uri": "https://localhost:8080/"
        },
        "id": "7a2320de",
        "outputId": "3416a18e-72d5-4b65-d1f4-1b85a0a34a29"
      },
      "outputs": [
        {
          "name": "stdout",
          "output_type": "stream",
          "text": [
            "Enter first integer: 1\n",
            "Enter second integer: 1\n",
            "Result: True\n"
          ]
        }
      ],
      "source": [
        "def check_values(x, y):\n",
        "    if x == y or (x + y == 5) or (abs(x - y) == 5):\n",
        "        return True\n",
        "    else:\n",
        "        return False\n",
        "\n",
        "a = int(input(\"Enter first integer: \"))\n",
        "b = int(input(\"Enter second integer: \"))\n",
        "\n",
        "print(\"Result:\", check_values(a, b))"
      ]
    },
    {
      "cell_type": "markdown",
      "id": "41d36f2f",
      "metadata": {
        "id": "41d36f2f"
      },
      "source": [
        "14)\tWrite a python program to sum of the first n positive integers.\n"
      ]
    },
    {
      "cell_type": "code",
      "execution_count": null,
      "id": "3159fdde",
      "metadata": {
        "colab": {
          "base_uri": "https://localhost:8080/"
        },
        "id": "3159fdde",
        "outputId": "b780356e-6d98-46db-d27d-d3767d3891f3"
      },
      "outputs": [
        {
          "name": "stdout",
          "output_type": "stream",
          "text": [
            "Enter a positive integer n: 12\n",
            "Sum of first 12 positive integers is: 78\n"
          ]
        }
      ],
      "source": [
        "\n",
        "n = int(input(\"Enter a positive integer n: \"))\n",
        "\n",
        "total = n * (n + 1) // 2\n",
        "print(\"Sum of first\", n, \"positive integers is:\", total)"
      ]
    },
    {
      "cell_type": "markdown",
      "id": "63ac4f5b",
      "metadata": {
        "id": "63ac4f5b"
      },
      "source": [
        "15)\tWrite a Python program to calculate the length of a string.\n"
      ]
    },
    {
      "cell_type": "code",
      "execution_count": null,
      "id": "217b439d",
      "metadata": {
        "colab": {
          "base_uri": "https://localhost:8080/"
        },
        "id": "217b439d",
        "outputId": "100032ba-0d82-4eb1-e548-498a39989c81"
      },
      "outputs": [
        {
          "name": "stdout",
          "output_type": "stream",
          "text": [
            "Enter a string: fgchgcf\n"
          ]
        },
        {
          "data": {
            "text/plain": [
              "7"
            ]
          },
          "execution_count": 19,
          "metadata": {},
          "output_type": "execute_result"
        }
      ],
      "source": [
        "text = input(\"Enter a string: \")\n",
        "len(text)"
      ]
    },
    {
      "cell_type": "markdown",
      "id": "1bcc27ea",
      "metadata": {
        "id": "1bcc27ea"
      },
      "source": [
        "16)\tWrite a Python program to count the number of characters (character frequency) in a string"
      ]
    },
    {
      "cell_type": "code",
      "execution_count": null,
      "id": "bIe-Syt3nVgf",
      "metadata": {
        "colab": {
          "base_uri": "https://localhost:8080/"
        },
        "id": "bIe-Syt3nVgf",
        "outputId": "03893549-73de-4499-826a-5b6fba081599"
      },
      "outputs": [
        {
          "name": "stdout",
          "output_type": "stream",
          "text": [
            "enter the characteryuuuu\n",
            "character frequency\n",
            "y:1\n",
            "u:4\n"
          ]
        }
      ],
      "source": [
        "char=input(\"enter the character\")\n",
        "count={}\n",
        "for i in char:\n",
        "    if i in count:\n",
        "      count[i]+=1\n",
        "    else:\n",
        "      count[i]=1\n",
        "print(\"character frequency\")\n",
        "for char,freq in count.items():\n",
        "  print(f\"{char}:{freq}\")\n"
      ]
    },
    {
      "cell_type": "markdown",
      "id": "b9cdc03a",
      "metadata": {
        "id": "b9cdc03a"
      },
      "source": [
        "17)\tWhat are negative indexes and why are they used? \\\n",
        "Ans. In Python, negative indexes are used to access elements of a sequence (like list, string, or tuple) from the end instead of the beginning. -1 represents the last element, -2 the second last, and so on.\n",
        "They are used for convenient backward access without calculating the exact positive index."
      ]
    },
    {
      "cell_type": "markdown",
      "id": "a220029d",
      "metadata": {
        "id": "a220029d"
      },
      "source": [
        "18)\tWrite a Python program to count occurrences of a substring in a string."
      ]
    },
    {
      "cell_type": "code",
      "execution_count": null,
      "id": "osSN6szIqwFa",
      "metadata": {
        "id": "osSN6szIqwFa"
      },
      "outputs": [],
      "source": [
        "text = input(\"Enter a string: \")\n",
        "substring = input(\"Enter a substring to count: \")\n",
        "\n",
        "count = text.count(substring)\n",
        "print(f\"The substring '{substring}' occurs {count} times in the string.\")"
      ]
    },
    {
      "cell_type": "markdown",
      "id": "fb87dc3d",
      "metadata": {
        "id": "fb87dc3d"
      },
      "source": [
        "19)\tWrite a Python program to count the occurrences of each word in a given sentence"
      ]
    },
    {
      "cell_type": "code",
      "execution_count": null,
      "id": "g_0C3GR6rEry",
      "metadata": {
        "colab": {
          "base_uri": "https://localhost:8080/"
        },
        "id": "g_0C3GR6rEry",
        "outputId": "118f3d42-a5e0-4fef-e170-e78ce78744df"
      },
      "outputs": [
        {
          "name": "stdout",
          "output_type": "stream",
          "text": [
            "Enter a sentence: the the \n",
            "Word occurrences:\n",
            "'the': 2\n"
          ]
        }
      ],
      "source": [
        "sentence = input(\"Enter a sentence: \")\n",
        "words = sentence.split()\n",
        "word_count = {}\n",
        "\n",
        "for word in words:\n",
        "    word = word.lower()\n",
        "    if word in word_count:\n",
        "        word_count[word] += 1\n",
        "    else:\n",
        "        word_count[word] = 1\n",
        "\n",
        "print(\"Word occurrences:\")\n",
        "for word,count in word_count.items():\n",
        "    print(f\"'{word}': {count}\")"
      ]
    },
    {
      "cell_type": "markdown",
      "id": "5d7e8869",
      "metadata": {
        "id": "5d7e8869"
      },
      "source": [
        "20)\tWrite a Python program to get a single string from two given strings, separated by a space and swap the first two characters of each string."
      ]
    },
    {
      "cell_type": "code",
      "execution_count": null,
      "id": "2FYBIRNLs1yQ",
      "metadata": {
        "colab": {
          "base_uri": "https://localhost:8080/"
        },
        "id": "2FYBIRNLs1yQ",
        "outputId": "f88c1b7c-cce2-412d-a65f-311680f052d2"
      },
      "outputs": [
        {
          "name": "stdout",
          "output_type": "stream",
          "text": [
            "Enter first string: you\n",
            "Enter second string: apple\n",
            "Result: apu yople\n"
          ]
        }
      ],
      "source": [
        "\n",
        "def swap_and_join(str1, str2):\n",
        "\n",
        "    if len(str1) < 2 or len(str2) < 2:\n",
        "        return \"Both strings must have at least 2 characters.\"\n",
        "\n",
        "\n",
        "    new_str1 = str2[:2] + str1[2:]\n",
        "    new_str2 = str1[:2] + str2[2:]\n",
        "\n",
        "\n",
        "    return new_str1 + \" \" + new_str2\n",
        "\n",
        "\n",
        "s1 = input(\"Enter first string: \")\n",
        "s2 = input(\"Enter second string: \")\n",
        "\n",
        "result = swap_and_join(s1, s2)\n",
        "print(\"result:\", result)\n"
      ]
    },
    {
      "cell_type": "markdown",
      "id": "6bf89843",
      "metadata": {},
      "source": [
        "21) Write a Python program to add 'in' at the end of a given string (length\n",
        "should be at least 3). If the given string already ends with 'ing' then\n",
        "add 'ly' instead if the string length of the given string is less than 3,\n",
        "leave it unchanged.\n"
      ]
    },
    {
      "cell_type": "code",
      "execution_count": null,
      "id": "aA19-cp5w_4t",
      "metadata": {
        "id": "aA19-cp5w_4t"
      },
      "outputs": [],
      "source": [
        "def string(s):\n",
        "\n",
        "  if len(s)<3:\n",
        "    return s\n",
        "  elif s.endswith(\"ing\"):\n",
        "    return s +\"ly\"\n",
        "  else:\n",
        "    return s+'ing'\n",
        "\n",
        "\n",
        "text = input(\"Enter a string: \")\n",
        "\n",
        "result = add_string(text)\n",
        "print(\"Result:\", result)\n"
      ]
    },
    {
      "cell_type": "markdown",
      "id": "gaY4N-egvdjX",
      "metadata": {
        "id": "gaY4N-egvdjX"
      },
      "source": [
        "22) Write a Python function to reverses a string if its length is a multiple\n",
        "of 4.\n"
      ]
    },
    {
      "cell_type": "code",
      "execution_count": null,
      "id": "R05iU3r66fzO",
      "metadata": {
        "id": "R05iU3r66fzO"
      },
      "outputs": [],
      "source": [
        "def reverse_if_multiple_of_4(s):\n",
        "    return s[::-1] if len(s) % 4 == 0 else s\n"
      ]
    },
    {
      "cell_type": "markdown",
      "id": "JyL6-Z_Evia3",
      "metadata": {
        "id": "JyL6-Z_Evia3"
      },
      "source": [
        "23) Write a Python program to get a string made of the first 2 and the last\n",
        "2 chars from a given a string. If the string length is less than 2, return\n",
        "instead of the empty string."
      ]
    },
    {
      "cell_type": "code",
      "execution_count": null,
      "id": "PfC1S98n6g5X",
      "metadata": {
        "id": "PfC1S98n6g5X"
      },
      "outputs": [],
      "source": [
        "def first_last_two(s):\n",
        "    if len(s) < 2:\n",
        "        return \"\"\n",
        "    return s[:2] + s[-2:]\n"
      ]
    },
    {
      "cell_type": "markdown",
      "id": "YcrJrdc_voz2",
      "metadata": {
        "id": "YcrJrdc_voz2"
      },
      "source": [
        "\n",
        "24)Write a Python function to insert a string in the middle of a string."
      ]
    },
    {
      "cell_type": "code",
      "execution_count": null,
      "id": "FvhvoGyw6lP3",
      "metadata": {
        "id": "FvhvoGyw6lP3"
      },
      "outputs": [],
      "source": [
        "def insert_middle(s, word):\n",
        "    mid = len(s) // 2\n",
        "    return s[:mid] + word + s[mid:]\n"
      ]
    },
    {
      "cell_type": "markdown",
      "id": "8E-9aE1KvjjG",
      "metadata": {
        "id": "8E-9aE1KvjjG"
      },
      "source": [
        "\n",
        "25)What is List? How will you reverse a list?\n",
        "\\\n",
        "Ans.List is a mutable, ordered collection of elements.\n"
      ]
    },
    {
      "cell_type": "markdown",
      "id": "xeDyINEp7rqe",
      "metadata": {
        "id": "xeDyINEp7rqe"
      },
      "source": [
        "26)How will you remove last object from a list?"
      ]
    },
    {
      "cell_type": "code",
      "execution_count": null,
      "id": "XuaQ2aQ58m6O",
      "metadata": {
        "colab": {
          "base_uri": "https://localhost:8080/"
        },
        "id": "XuaQ2aQ58m6O",
        "outputId": "e41a9268-4456-42dd-e5ad-21187840bd3f"
      },
      "outputs": [
        {
          "name": "stdout",
          "output_type": "stream",
          "text": [
            "[10, 20, 30]\n"
          ]
        }
      ],
      "source": [
        "mylist = [10, 20, 30, 40]\n",
        "mylist.pop()\n",
        "print(mylist)\n"
      ]
    },
    {
      "cell_type": "markdown",
      "id": "0IduvGkRv-8O",
      "metadata": {
        "id": "0IduvGkRv-8O"
      },
      "source": [
        "27)Suppose list1 is [2, 33, 222, 14, and 25], what is list1 [-\n",
        "1]?\n",
        "\n"
      ]
    },
    {
      "cell_type": "code",
      "execution_count": null,
      "id": "5WkQzoyX8qud",
      "metadata": {
        "colab": {
          "base_uri": "https://localhost:8080/"
        },
        "id": "5WkQzoyX8qud",
        "outputId": "50f7cfc8-d91c-4da1-fd74-7ef325d862d0"
      },
      "outputs": [
        {
          "name": "stdout",
          "output_type": "stream",
          "text": [
            "25\n"
          ]
        }
      ],
      "source": [
        "list1 = [2, 33, 222, 14, 25]\n",
        "print(list1[-1])\n"
      ]
    },
    {
      "cell_type": "markdown",
      "id": "00GbZEWEv5P2",
      "metadata": {
        "id": "00GbZEWEv5P2"
      },
      "source": [
        "28)Differentiate between append () and extend () methods? \\\n",
        "Ans. append() adds a single element.\\\n",
        "extend() adds elements of an iterable.\n",
        "\n",
        "\n"
      ]
    },
    {
      "cell_type": "markdown",
      "id": "YmgmbztCwOYu",
      "metadata": {
        "id": "YmgmbztCwOYu"
      },
      "source": [
        "29) Write a Python function to get the largest number, smallest num\n",
        "and sum of all from a list."
      ]
    },
    {
      "cell_type": "code",
      "execution_count": null,
      "id": "YEtUaL7P88Wv",
      "metadata": {
        "id": "YEtUaL7P88Wv"
      },
      "outputs": [],
      "source": [
        "def list_stats(lst):\n",
        "    return max(lst), min(lst), sum(lst)\n"
      ]
    },
    {
      "cell_type": "markdown",
      "id": "85OVwnbZwO6W",
      "metadata": {
        "id": "85OVwnbZwO6W"
      },
      "source": [
        "30)How will you compare two lists?"
      ]
    },
    {
      "cell_type": "code",
      "execution_count": null,
      "id": "358GG_ce8_dm",
      "metadata": {
        "id": "358GG_ce8_dm"
      },
      "outputs": [],
      "source": [
        "list1 = [1, 2, 3]\n",
        "list2 = [1, 2, 3]\n",
        "print(list1 == list2)\n",
        "print(set(list1) == set(list2))\n"
      ]
    },
    {
      "cell_type": "markdown",
      "id": "tYbbrtK92tY8",
      "metadata": {
        "id": "tYbbrtK92tY8"
      },
      "source": [
        "31) Write a Python program to count the number of strings where the string\n",
        "length is 2 or more and the first and last character are same from a given list\n",
        "of strings."
      ]
    },
    {
      "cell_type": "code",
      "execution_count": null,
      "id": "DoWtsHig-NLc",
      "metadata": {
        "id": "DoWtsHig-NLc"
      },
      "outputs": [],
      "source": [
        "def match_words(words):\n",
        "    count = 0\n",
        "    for word in words:\n",
        "        if len(word) >= 2 and word[0] == word[-1]:\n",
        "            count += 1\n",
        "    return count\n",
        "print(match_words(['abc', 'xyz', 'aba', '1221']))"
      ]
    },
    {
      "cell_type": "markdown",
      "id": "8BGrZrws2tWJ",
      "metadata": {
        "id": "8BGrZrws2tWJ"
      },
      "source": [
        "32)Write a Python program to remove duplicates from a list"
      ]
    },
    {
      "cell_type": "code",
      "execution_count": null,
      "id": "zmv_wULn-PKE",
      "metadata": {
        "id": "zmv_wULn-PKE"
      },
      "outputs": [],
      "source": [
        "def remove_duplicates(lst):\n",
        "    return list(set(lst))\n",
        "print(remove_duplicates([1,2,2,3,4,4,5]))"
      ]
    },
    {
      "cell_type": "markdown",
      "id": "NuA1qynX2tTh",
      "metadata": {
        "id": "NuA1qynX2tTh"
      },
      "source": [
        "\n",
        "33)Write a Python program to check a list is empty or not."
      ]
    },
    {
      "cell_type": "code",
      "execution_count": null,
      "id": "LglPKK8g-RqE",
      "metadata": {
        "id": "LglPKK8g-RqE"
      },
      "outputs": [],
      "source": [
        "def check_empty(lst):\n",
        "    return len(lst) == 0\n",
        "print(check_empty([]))\n",
        "print(check_empty([1,2,3]))\n"
      ]
    },
    {
      "cell_type": "markdown",
      "id": "3JdDg0jC2tOZ",
      "metadata": {
        "id": "3JdDg0jC2tOZ"
      },
      "source": [
        "34) Write a Python function that takes two lists and returns true if they\n",
        "have at least one common member."
      ]
    },
    {
      "cell_type": "code",
      "execution_count": null,
      "id": "7BXHJ0z_-Uoc",
      "metadata": {
        "id": "7BXHJ0z_-Uoc"
      },
      "outputs": [],
      "source": [
        "def common_member(a, b):\n",
        "    for i in a:\n",
        "        if i in b:\n",
        "            return True\n",
        "    return False\n",
        "print(common_member([1,2,3,4,5], [5,6,7,8,9]))\n",
        "print(common_member([1,2,3,4,5], [6,7,8,9]))\n"
      ]
    },
    {
      "cell_type": "markdown",
      "id": "QeTtl62Y2s_h",
      "metadata": {
        "id": "QeTtl62Y2s_h"
      },
      "source": [
        "35) Write a Python program to generate and print a list of first and last 5\n",
        "elements where the values are square of numbers between 1 and 30."
      ]
    },
    {
      "cell_type": "code",
      "execution_count": null,
      "id": "FpNsnSN--Xs0",
      "metadata": {
        "id": "FpNsnSN--Xs0"
      },
      "outputs": [],
      "source": [
        "def squares():\n",
        "    lst = [i**2 for i in range(1,31)]\n",
        "    return lst[:5] + lst[-5:]\n",
        "print(squares())"
      ]
    },
    {
      "cell_type": "markdown",
      "id": "o0pnERXz2s2d",
      "metadata": {
        "id": "o0pnERXz2s2d"
      },
      "source": [
        "36) Write a Python function that takes a list and returns a new list with\n",
        "unique elements of the first list\n"
      ]
    },
    {
      "cell_type": "code",
      "execution_count": null,
      "id": "lZxnsqN5-anU",
      "metadata": {
        "id": "lZxnsqN5-anU"
      },
      "outputs": [],
      "source": [
        "def unique_list(lst):\n",
        "    return list(set(lst))\n",
        "print(unique_list([1,2,2,3,4,4,5]))"
      ]
    },
    {
      "cell_type": "markdown",
      "id": "CzXNYFQW2szF",
      "metadata": {
        "id": "CzXNYFQW2szF"
      },
      "source": [
        "37)Write a Python program to convert a list of characters into a string"
      ]
    },
    {
      "cell_type": "code",
      "execution_count": null,
      "id": "6JKr82oN-dqU",
      "metadata": {
        "id": "6JKr82oN-dqU"
      },
      "outputs": [],
      "source": [
        "def chars_to_string(chars):\n",
        "    return ''.join(chars)\n",
        "print(chars_to_string(['h','e','l','l','o']))"
      ]
    },
    {
      "cell_type": "markdown",
      "id": "LUP8pOY92svZ",
      "metadata": {
        "id": "LUP8pOY92svZ"
      },
      "source": [
        "38)Write a Python program to select an item randomly from a list."
      ]
    },
    {
      "cell_type": "code",
      "execution_count": null,
      "id": "obrVzdo5-gAU",
      "metadata": {
        "colab": {
          "base_uri": "https://localhost:8080/"
        },
        "id": "obrVzdo5-gAU",
        "outputId": "41ff9236-49b3-4b4e-9951-e93279044129"
      },
      "outputs": [
        {
          "name": "stdout",
          "output_type": "stream",
          "text": [
            "5\n"
          ]
        }
      ],
      "source": [
        "\n",
        "def random_choice(lst):\n",
        "    return lst.pop()\n",
        "print(random_choice([1,2,3,4,5]))"
      ]
    },
    {
      "cell_type": "markdown",
      "id": "1Fr5Voze2sox",
      "metadata": {
        "id": "1Fr5Voze2sox"
      },
      "source": [
        "39)Write a Python program to find the second smallest number in a list."
      ]
    },
    {
      "cell_type": "code",
      "execution_count": null,
      "id": "LzKUbryM-jIs",
      "metadata": {
        "id": "LzKUbryM-jIs"
      },
      "outputs": [],
      "source": [
        "def second_smallest(lst):\n",
        "    lst = sorted(set(lst))\n",
        "    return lst[1]\n",
        "print(second_smallest([1,2,3,4,5,1,2]))"
      ]
    },
    {
      "cell_type": "markdown",
      "id": "8lWnHf722slp",
      "metadata": {
        "id": "8lWnHf722slp"
      },
      "source": [
        "40)Write a Python program to get unique values from a list"
      ]
    },
    {
      "cell_type": "code",
      "execution_count": null,
      "id": "KiGVeJa3-l28",
      "metadata": {
        "id": "KiGVeJa3-l28"
      },
      "outputs": [],
      "source": [
        "def unique_values(lst):\n",
        "    return list(set(lst))\n",
        "print(unique_values([1,2,2,3,4,4,5]))"
      ]
    },
    {
      "cell_type": "markdown",
      "id": "kV9PFMYd2si5",
      "metadata": {
        "id": "kV9PFMYd2si5"
      },
      "source": [
        "41)Write a Python program to check whether a list contains a sub list"
      ]
    },
    {
      "cell_type": "code",
      "execution_count": null,
      "id": "phk0oIosAFaj",
      "metadata": {
        "colab": {
          "base_uri": "https://localhost:8080/"
        },
        "id": "phk0oIosAFaj",
        "outputId": "30248fa1-aa59-4f2e-c5c9-b8420d378978"
      },
      "outputs": [
        {
          "name": "stdout",
          "output_type": "stream",
          "text": [
            "None\n"
          ]
        }
      ],
      "source": [
        "def is_sublist(lst, sublist):\n",
        "    if sublist in lst:\n",
        "\n",
        "\n",
        "print(is_sublist([1,2,3,4,5], [2,3]))\n"
      ]
    },
    {
      "cell_type": "markdown",
      "id": "7nw8BIN-2sfx",
      "metadata": {
        "id": "7nw8BIN-2sfx"
      },
      "source": [
        "42)Write a Python program to split a list into different variables."
      ]
    },
    {
      "cell_type": "code",
      "execution_count": null,
      "id": "w-fU4FhbBoSK",
      "metadata": {
        "id": "w-fU4FhbBoSK"
      },
      "outputs": [],
      "source": [
        "lst = [1, 2, 3]\n",
        "a, b, c = lst\n",
        "print(a, b, c)\n"
      ]
    },
    {
      "cell_type": "markdown",
      "id": "LEkg9geX2scx",
      "metadata": {
        "id": "LEkg9geX2scx"
      },
      "source": [
        "43)What is tuple? Difference between list and tuple \\\n",
        "Tuple is an immutable sequence in Python, while list is mutable.\n",
        "\n",
        "List → [], can be changed (add/remove elements).\n",
        "\n",
        "Tuple → (), cannot be changed after creation."
      ]
    },
    {
      "cell_type": "markdown",
      "id": "HfqyGwSW2sXD",
      "metadata": {
        "id": "HfqyGwSW2sXD"
      },
      "source": [
        "44)Write a Python program to create a tuple with different data types."
      ]
    },
    {
      "cell_type": "code",
      "execution_count": null,
      "id": "eYoatwyUB1cS",
      "metadata": {
        "id": "eYoatwyUB1cS"
      },
      "outputs": [
        {
          "name": "stdout",
          "output_type": "stream",
          "text": [
            "(1, 'hello', 3.14, True)\n"
          ]
        }
      ],
      "source": [
        "t = (1, \"hello\", 3.14, True)\n",
        "print(t)\n"
      ]
    },
    {
      "cell_type": "markdown",
      "id": "jKTwYxkE2sTa",
      "metadata": {
        "id": "jKTwYxkE2sTa"
      },
      "source": [
        "45)Write a Python program to unzip a list of tuples into individual lists."
      ]
    },
    {
      "cell_type": "code",
      "execution_count": null,
      "id": "lOQ5I3ntB4WC",
      "metadata": {
        "id": "lOQ5I3ntB4WC"
      },
      "outputs": [
        {
          "name": "stdout",
          "output_type": "stream",
          "text": [
            "[1, 3, 5]\n",
            "[2, 4, 6]\n"
          ]
        }
      ],
      "source": [
        "lst = [(1,2),(3,4),(5,6)]\n",
        "a, b = zip(*lst)\n",
        "print(list(a))\n",
        "print(list(b))\n"
      ]
    },
    {
      "cell_type": "markdown",
      "id": "e0fP8RN82sPM",
      "metadata": {
        "id": "e0fP8RN82sPM"
      },
      "source": [
        "46)Write a Python program to convert a list of tuples into a dictionary"
      ]
    },
    {
      "cell_type": "code",
      "execution_count": 4,
      "id": "qmbMndB9DAV5",
      "metadata": {
        "id": "qmbMndB9DAV5"
      },
      "outputs": [
        {
          "name": "stdout",
          "output_type": "stream",
          "text": [
            "{'a': 1, 'b': 2, 'c': 3}\n"
          ]
        }
      ],
      "source": [
        "lst = [(\"a\",1),(\"b\",2),(\"c\",3)]\n",
        "d = dict(lst)\n",
        "print(d)\n"
      ]
    },
    {
      "cell_type": "markdown",
      "id": "kytcjtEO2sJ6",
      "metadata": {
        "id": "kytcjtEO2sJ6"
      },
      "source": [
        "47)How will you create a dictionary using tuples in python?"
      ]
    },
    {
      "cell_type": "code",
      "execution_count": 5,
      "id": "Ie3BxOFqDAvZ",
      "metadata": {
        "id": "Ie3BxOFqDAvZ"
      },
      "outputs": [
        {
          "name": "stdout",
          "output_type": "stream",
          "text": [
            "{'a': 1, 'b': 2}\n"
          ]
        }
      ],
      "source": [
        "\n",
        "t = ((\"a\",1),(\"b\",2))\n",
        "d = dict(t)\n",
        "print(d)\n"
      ]
    },
    {
      "cell_type": "markdown",
      "id": "9rXSiEXI2sB5",
      "metadata": {
        "id": "9rXSiEXI2sB5"
      },
      "source": [
        "48)Write a Python script to sort (ascending and descending) a\n",
        "dictionary by value"
      ]
    },
    {
      "cell_type": "code",
      "execution_count": null,
      "id": "M8nYbH-xDBfh",
      "metadata": {
        "colab": {
          "base_uri": "https://localhost:8080/"
        },
        "id": "M8nYbH-xDBfh",
        "outputId": "3be55839-f4a8-46d0-a82b-5c72e73423d4"
      },
      "outputs": [
        {
          "name": "stdout",
          "output_type": "stream",
          "text": [
            "{'a': 3, 'b': 1, 'c': 2}\n",
            "{'a': 3, 'c': 2, 'b': 1}\n"
          ]
        }
      ],
      "source": [
        "d = {\"a\":3,\"b\":1,\"c\":2}\n",
        "asc = dict(sorted(d.items(), key=lambda x: x[1]))\n",
        "desc = dict(sorted(d.items(), key=lambda x: x[1], reverse=True))\n",
        "print(asc)\n",
        "print(desc)\n"
      ]
    },
    {
      "cell_type": "markdown",
      "id": "FgxnESsW2r4Z",
      "metadata": {
        "id": "FgxnESsW2r4Z"
      },
      "source": [
        "49)Write a Python script to concatenate following dictionaries to create\n",
        "a new one"
      ]
    },
    {
      "cell_type": "code",
      "execution_count": 6,
      "id": "WGutKYM4DCCr",
      "metadata": {
        "id": "WGutKYM4DCCr"
      },
      "outputs": [
        {
          "name": "stdout",
          "output_type": "stream",
          "text": [
            "{'a': 1, 'b': 2, 'c': 3}\n"
          ]
        }
      ],
      "source": [
        "d1 = {\"a\":1}\n",
        "d2 = {\"b\":2}\n",
        "d3 = {\"c\":3}\n",
        "d4 = {}\n",
        "for d in (d1,d2,d3): d4.update(d)\n",
        "print(d4)\n"
      ]
    },
    {
      "cell_type": "markdown",
      "id": "ojjb-DHz2rsR",
      "metadata": {
        "id": "ojjb-DHz2rsR"
      },
      "source": [
        "50)Write a Python script to check if a given key already exists in a\n",
        "dictionary."
      ]
    },
    {
      "cell_type": "code",
      "execution_count": 7,
      "id": "QbdPpdjcDCxp",
      "metadata": {
        "id": "QbdPpdjcDCxp"
      },
      "outputs": [
        {
          "name": "stdout",
          "output_type": "stream",
          "text": [
            "True\n"
          ]
        }
      ],
      "source": [
        "d = {\"a\":1,\"b\":2}\n",
        "key = \"a\"\n",
        "print(key in d)\n"
      ]
    },
    {
      "cell_type": "markdown",
      "id": "0LEfVb-F2rZB",
      "metadata": {
        "id": "0LEfVb-F2rZB"
      },
      "source": [
        "51)How Do You Traverse Through a Dictionary Object in Python?"
      ]
    },
    {
      "cell_type": "code",
      "execution_count": 8,
      "id": "pwXSGXyqDDV5",
      "metadata": {
        "id": "pwXSGXyqDDV5"
      },
      "outputs": [
        {
          "name": "stdout",
          "output_type": "stream",
          "text": [
            "Key: a Value: 1\n",
            "Key: b Value: 2\n",
            "Key: c Value: 3\n",
            "a → 1\n",
            "b → 2\n",
            "c → 3\n"
          ]
        }
      ],
      "source": [
        "d = {\"a\": 1, \"b\": 2, \"c\": 3}\n",
        "\n",
        "\n",
        "for key in d:\n",
        "    print(\"Key:\", key, \"Value:\", d[key])\n",
        "\n",
        "\n",
        "for key, value in d.items():\n",
        "    print(f\"{key} → {value}\")\n"
      ]
    },
    {
      "cell_type": "markdown",
      "id": "8KOvoy4n3vAb",
      "metadata": {
        "id": "8KOvoy4n3vAb"
      },
      "source": [
        "52)How Do You Check the Presence of a Key in A Dictionary?"
      ]
    },
    {
      "cell_type": "code",
      "execution_count": 9,
      "id": "b96lSkWIDFJJ",
      "metadata": {
        "id": "b96lSkWIDFJJ"
      },
      "outputs": [
        {
          "name": "stdout",
          "output_type": "stream",
          "text": [
            "True\n",
            "False\n"
          ]
        }
      ],
      "source": [
        "d = {\"a\": 1, \"b\": 2, \"c\": 3}\n",
        "print(\"a\" in d)\n",
        "print(\"z\" in d)\n"
      ]
    },
    {
      "cell_type": "markdown",
      "id": "ZCSVFMgh3u6x",
      "metadata": {
        "id": "ZCSVFMgh3u6x"
      },
      "source": [
        "53)Write a Python script to print a dictionary where the keys are\n",
        "numbers between 1 and 15."
      ]
    },
    {
      "cell_type": "code",
      "execution_count": 10,
      "id": "Cu6W8TCIDGna",
      "metadata": {
        "id": "Cu6W8TCIDGna"
      },
      "outputs": [
        {
          "name": "stdout",
          "output_type": "stream",
          "text": [
            "{1: 1, 2: 4, 3: 9, 4: 16, 5: 25, 6: 36, 7: 49, 8: 64, 9: 81, 10: 100, 11: 121, 12: 144, 13: 169, 14: 196, 15: 225}\n"
          ]
        }
      ],
      "source": [
        "d = {x: x**2 for x in range(1, 16)}\n",
        "print(d)\n"
      ]
    },
    {
      "cell_type": "markdown",
      "id": "cSwI6BRp3u4J",
      "metadata": {
        "id": "cSwI6BRp3u4J"
      },
      "source": [
        "54)Write a Python program to check multiple keys exists in a dictionary"
      ]
    },
    {
      "cell_type": "code",
      "execution_count": 11,
      "id": "rvvTPdlcDHVD",
      "metadata": {
        "id": "rvvTPdlcDHVD"
      },
      "outputs": [
        {
          "name": "stdout",
          "output_type": "stream",
          "text": [
            "True\n"
          ]
        }
      ],
      "source": [
        "d = {\"a\": 1, \"b\": 2, \"c\": 3, \"d\": 4}\n",
        "keys = {\"a\", \"b\"}\n",
        "\n",
        "print(keys.issubset(d.keys()))\n"
      ]
    },
    {
      "cell_type": "markdown",
      "id": "LDOlwKUM3u1q",
      "metadata": {
        "id": "LDOlwKUM3u1q"
      },
      "source": [
        "55)Write a Python script to merge two Python dictionaries"
      ]
    },
    {
      "cell_type": "code",
      "execution_count": 12,
      "id": "olQAGQgpDIhq",
      "metadata": {
        "id": "olQAGQgpDIhq"
      },
      "outputs": [
        {
          "name": "stdout",
          "output_type": "stream",
          "text": [
            "{'a': 100, 'b': 200, 'c': 300, 'd': 400}\n",
            "{'a': 100, 'b': 200, 'c': 300, 'd': 400}\n"
          ]
        }
      ],
      "source": [
        "d1 = {\"a\": 100, \"b\": 200}\n",
        "d2 = {\"c\": 300, \"d\": 400}\n",
        "\n",
        "merged = d1 | d2\n",
        "print(merged)\n",
        "\n",
        "merged = {**d1, **d2}\n",
        "print(merged)\n"
      ]
    },
    {
      "cell_type": "markdown",
      "id": "rOG9gcxv3uyA",
      "metadata": {
        "id": "rOG9gcxv3uyA"
      },
      "source": [
        "56)Write a Python program to map two lists into a dictionary\n",
        "Sample output: Counter ({'a': 400, 'b': 400,’d’: 400, 'c': 300})."
      ]
    },
    {
      "cell_type": "code",
      "execution_count": 13,
      "id": "5VKEGgpUG85W",
      "metadata": {
        "id": "5VKEGgpUG85W"
      },
      "outputs": [
        {
          "name": "stdout",
          "output_type": "stream",
          "text": [
            "Counter({'a': 400, 'b': 400, 'd': 400, 'c': 300})\n"
          ]
        }
      ],
      "source": [
        "from collections import Counter\n",
        "\n",
        "keys = ['a', 'b', 'c', 'd']\n",
        "values = [400, 400, 300, 400]\n",
        "\n",
        "d = Counter(dict(zip(keys, values)))\n",
        "print(d)\n"
      ]
    },
    {
      "cell_type": "markdown",
      "id": "Ie1IgEV83utx",
      "metadata": {
        "id": "Ie1IgEV83utx"
      },
      "source": [
        "57)Write a Python program to find the highest 3 values in a dictionary"
      ]
    },
    {
      "cell_type": "code",
      "execution_count": 14,
      "id": "QoKDbAa3G9b4",
      "metadata": {
        "id": "QoKDbAa3G9b4"
      },
      "outputs": [
        {
          "name": "stdout",
          "output_type": "stream",
          "text": [
            "Top 3 values: [1500, 1200, 800]\n"
          ]
        }
      ],
      "source": [
        "d = {'a': 500, 'b': 1500, 'c': 200, 'd': 800, 'e': 1200}\n",
        "\n",
        "top3 = sorted(d.values(), reverse=True)[:3]\n",
        "print(\"Top 3 values:\", top3)\n"
      ]
    },
    {
      "cell_type": "markdown",
      "id": "HssaTw-O3ukx",
      "metadata": {
        "id": "HssaTw-O3ukx"
      },
      "source": [
        "58)Write a Python program to combine values in python list of dictionaries.\n",
        "Sample data: [{'item': 'item1', 'amount': 400}, {'item': 'item2', 'amount':\n",
        "300}, o {'item': 'item1', 'amount': 750}]\n",
        "Expected Output:\n",
        "• Counter ({'item1': 1150, 'item2': 300})"
      ]
    },
    {
      "cell_type": "code",
      "execution_count": 15,
      "id": "rtF2V_kgG93P",
      "metadata": {
        "colab": {
          "base_uri": "https://localhost:8080/"
        },
        "id": "rtF2V_kgG93P",
        "outputId": "57368c8a-54b7-40ed-8e47-8673d26a1b25"
      },
      "outputs": [
        {
          "name": "stdout",
          "output_type": "stream",
          "text": [
            "Counter({'item1': 1150, 'item2': 300})\n"
          ]
        }
      ],
      "source": [
        "from collections import Counter\n",
        "\n",
        "data = [\n",
        "    {'item': 'item1', 'amount': 400},\n",
        "    {'item': 'item2', 'amount': 300},\n",
        "    {'item': 'item1', 'amount': 750}\n",
        "]\n",
        "\n",
        "result = Counter()\n",
        "for d in data:\n",
        "    result[d['item']] += d['amount']\n",
        "\n",
        "print(result)\n",
        "\n"
      ]
    },
    {
      "cell_type": "markdown",
      "id": "JB2uF2MO3uMZ",
      "metadata": {
        "id": "JB2uF2MO3uMZ"
      },
      "source": [
        "59)Write a Python program to create a dictionary from a string.\n",
        "Note: Track the count of the letters from the string"
      ]
    },
    {
      "cell_type": "code",
      "execution_count": 16,
      "id": "rKozvZwXG-Ze",
      "metadata": {
        "colab": {
          "base_uri": "https://localhost:8080/"
        },
        "id": "rKozvZwXG-Ze",
        "outputId": "00b8bb94-23fd-40fa-c7f3-f29d56fe7f4a"
      },
      "outputs": [
        {
          "name": "stdout",
          "output_type": "stream",
          "text": [
            "{'p': 1, 'y': 1, 't': 1, 'h': 1, 'o': 1, 'n': 1}\n"
          ]
        }
      ],
      "source": [
        "from collections import Counter\n",
        "\n",
        "s = \"python\"\n",
        "d = dict(Counter(s))\n",
        "print(d)\n"
      ]
    },
    {
      "cell_type": "markdown",
      "id": "7AioH_kq4F4Q",
      "metadata": {
        "id": "7AioH_kq4F4Q"
      },
      "source": [
        "60)Sample string:\n",
        " 'w3resource' Expected output:\n",
        "• {'3': 1,’s’: 1, 'r': 2, 'u': 1, 'w': 1, 'c': 1, 'e': 2, 'o': 1}"
      ]
    },
    {
      "cell_type": "code",
      "execution_count": 17,
      "id": "ngULD1zXG-x3",
      "metadata": {
        "colab": {
          "base_uri": "https://localhost:8080/"
        },
        "id": "ngULD1zXG-x3",
        "outputId": "ea92e839-ba56-4591-bd11-80871d08f357"
      },
      "outputs": [
        {
          "name": "stdout",
          "output_type": "stream",
          "text": [
            "{'n': 1, 'y': 1, 'p': 1, 't': 1, 'h': 1, 'o': 1}\n"
          ]
        }
      ],
      "source": [
        "s = \"python\"\n",
        "d = {ch: s.count(ch) for ch in set(s)}\n",
        "print(d)\n",
        "\n"
      ]
    },
    {
      "cell_type": "markdown",
      "id": "F0veVshQ4KAI",
      "metadata": {
        "id": "F0veVshQ4KAI"
      },
      "source": [
        "61)Write a Python function to calculate the factorial of a number (a\n",
        "nonnegative integer)"
      ]
    },
    {
      "cell_type": "code",
      "execution_count": 18,
      "id": "_SrXXeU6G_8G",
      "metadata": {
        "id": "_SrXXeU6G_8G"
      },
      "outputs": [
        {
          "name": "stdout",
          "output_type": "stream",
          "text": [
            "120\n"
          ]
        }
      ],
      "source": [
        "def factorial(n):\n",
        "    if n == 0 or n == 1:\n",
        "        return 1\n",
        "    else:\n",
        "        return n * factorial(n-1)\n",
        "\n",
        "print(factorial(5))\n"
      ]
    },
    {
      "cell_type": "markdown",
      "id": "mmyvezK44Psp",
      "metadata": {
        "id": "mmyvezK44Psp"
      },
      "source": [
        "62)Write a Python function to check whether a number is in a given range"
      ]
    },
    {
      "cell_type": "code",
      "execution_count": 19,
      "id": "Lk1xpKDlHBRI",
      "metadata": {
        "id": "Lk1xpKDlHBRI"
      },
      "outputs": [
        {
          "name": "stdout",
          "output_type": "stream",
          "text": [
            "True\n"
          ]
        }
      ],
      "source": [
        "def check_range(n, start, end):\n",
        "    return n in range(start, end+1)\n",
        "\n",
        "print(check_range(5, 1, 10))\n"
      ]
    },
    {
      "cell_type": "markdown",
      "id": "SsWGDlyf4Pgg",
      "metadata": {
        "id": "SsWGDlyf4Pgg"
      },
      "source": [
        "63)Write a Python function to check whether a number is perfect or not"
      ]
    },
    {
      "cell_type": "code",
      "execution_count": 20,
      "id": "Iv8DjhcmL7uc",
      "metadata": {
        "id": "Iv8DjhcmL7uc"
      },
      "outputs": [
        {
          "name": "stdout",
          "output_type": "stream",
          "text": [
            "True\n"
          ]
        }
      ],
      "source": [
        "def is_perfect(num):\n",
        "    sum_div = 0\n",
        "    for i in range(1, num):\n",
        "        if num % i == 0:\n",
        "            sum_div += i\n",
        "    return sum_div == num\n",
        "\n",
        "print(is_perfect(28))\n"
      ]
    },
    {
      "cell_type": "markdown",
      "id": "LNYv0EMW4PW4",
      "metadata": {
        "id": "LNYv0EMW4PW4"
      },
      "source": [
        "64)Write a Python function that checks whether a passed string is\n",
        "palindrome or not"
      ]
    },
    {
      "cell_type": "code",
      "execution_count": 21,
      "id": "F8743XLRL90z",
      "metadata": {
        "id": "F8743XLRL90z"
      },
      "outputs": [
        {
          "name": "stdout",
          "output_type": "stream",
          "text": [
            "True\n"
          ]
        }
      ],
      "source": [
        "def is_palindrome(s):\n",
        "    return s == s[::-1]\n",
        "\n",
        "print(is_palindrome(\"madam\"))\n"
      ]
    },
    {
      "cell_type": "markdown",
      "id": "wfOeIks0MHlq",
      "metadata": {
        "id": "wfOeIks0MHlq"
      },
      "source": [
        "65)How Many Basic Types of Functions Are Available in Python?\n",
        "\\\n",
        "Ans. Two types: Built-in functions and User-defined functions\n"
      ]
    },
    {
      "cell_type": "markdown",
      "id": "s4iKgpgZMHdW",
      "metadata": {
        "id": "s4iKgpgZMHdW"
      },
      "source": [
        "66)How can you pick a random item from a list or tuple?"
      ]
    },
    {
      "cell_type": "code",
      "execution_count": 22,
      "id": "6A0vmhfcMf9S",
      "metadata": {
        "id": "6A0vmhfcMf9S"
      },
      "outputs": [
        {
          "name": "stdout",
          "output_type": "stream",
          "text": [
            "1\n"
          ]
        }
      ],
      "source": [
        "import random\n",
        "items = [1, 2, 3, 4, 5]\n",
        "print(random.choice(items))\n"
      ]
    },
    {
      "cell_type": "markdown",
      "id": "GZVQmhewMHaT",
      "metadata": {
        "id": "GZVQmhewMHaT"
      },
      "source": [
        "67)How can you pick a random item from a range?"
      ]
    },
    {
      "cell_type": "code",
      "execution_count": 23,
      "id": "8R7dq3faMi1r",
      "metadata": {
        "id": "8R7dq3faMi1r"
      },
      "outputs": [
        {
          "name": "stdout",
          "output_type": "stream",
          "text": [
            "18\n"
          ]
        }
      ],
      "source": [
        "import random\n",
        "print(random.choice(range(10, 20)))\n"
      ]
    },
    {
      "cell_type": "markdown",
      "id": "TGpBmR3RMHRT",
      "metadata": {
        "id": "TGpBmR3RMHRT"
      },
      "source": [
        "68)How can you get a random number in python?"
      ]
    },
    {
      "cell_type": "code",
      "execution_count": 24,
      "id": "LErEGD_CMs26",
      "metadata": {
        "id": "LErEGD_CMs26"
      },
      "outputs": [
        {
          "name": "stdout",
          "output_type": "stream",
          "text": [
            "50\n"
          ]
        }
      ],
      "source": [
        "import random\n",
        "print(random.randint(1, 100))\n"
      ]
    },
    {
      "cell_type": "markdown",
      "id": "YHveKKzNMG7U",
      "metadata": {
        "id": "YHveKKzNMG7U"
      },
      "source": [
        "69)How will you set the starting value in generating random numbers?"
      ]
    },
    {
      "cell_type": "code",
      "execution_count": 25,
      "id": "1pc3mP15Mumq",
      "metadata": {
        "id": "1pc3mP15Mumq"
      },
      "outputs": [
        {
          "name": "stdout",
          "output_type": "stream",
          "text": [
            "0.5714025946899135\n"
          ]
        }
      ],
      "source": [
        "import random\n",
        "random.seed(10)\n",
        "print(random.random())\n"
      ]
    },
    {
      "cell_type": "markdown",
      "id": "zGm2bBXEMXJ0",
      "metadata": {
        "id": "zGm2bBXEMXJ0"
      },
      "source": [
        "70) How will you randomize the items of a list in place?"
      ]
    },
    {
      "cell_type": "code",
      "execution_count": 26,
      "id": "8BjcCEoHMwSi",
      "metadata": {
        "id": "8BjcCEoHMwSi"
      },
      "outputs": [
        {
          "name": "stdout",
          "output_type": "stream",
          "text": [
            "[2, 1, 3, 5, 4]\n"
          ]
        }
      ],
      "source": [
        "import random\n",
        "items = [1, 2, 3, 4, 5]\n",
        "random.shuffle(items)\n",
        "print(items)\n"
      ]
    },
    {
      "cell_type": "markdown",
      "id": "5Hc0IcoK4nvZ",
      "metadata": {
        "id": "5Hc0IcoK4nvZ"
      },
      "source": [
        "71)What is File function in python? What are keywords to create and write file.\\\n",
        "Ans. In Python, a file function generally means the use of the built-in open() function, which is used to create, read, write, and append files."
      ]
    },
    {
      "cell_type": "markdown",
      "id": "2CiWbXLX4pdR",
      "metadata": {
        "id": "2CiWbXLX4pdR"
      },
      "source": [
        "72)Write a Python program to read an entire text file."
      ]
    },
    {
      "cell_type": "code",
      "execution_count": 28,
      "id": "J3eterWxM-M7",
      "metadata": {
        "id": "J3eterWxM-M7"
      },
      "outputs": [
        {
          "name": "stdout",
          "output_type": "stream",
          "text": [
            "\n",
            "hello \n",
            "good morning\n",
            "how are you\n",
            "\n"
          ]
        }
      ],
      "source": [
        "f = open(\"test.txt\", \"r\")\n",
        "print(f.read())\n",
        "f.close()\n"
      ]
    },
    {
      "cell_type": "markdown",
      "id": "YphEfdpg4paj",
      "metadata": {
        "id": "YphEfdpg4paj"
      },
      "source": [
        "73)Write a Python program to append text to a file and display the text."
      ]
    },
    {
      "cell_type": "code",
      "execution_count": 29,
      "id": "vkeNjA5jM-1K",
      "metadata": {
        "id": "vkeNjA5jM-1K"
      },
      "outputs": [
        {
          "name": "stdout",
          "output_type": "stream",
          "text": [
            "\n",
            "hello \n",
            "good morning\n",
            "how are you\n",
            "Appended line\n",
            "\n"
          ]
        }
      ],
      "source": [
        "f = open(\"test.txt\", \"a\")\n",
        "f.write(\"Appended line\\n\")\n",
        "f.close()\n",
        "\n",
        "f = open(\"test.txt\", \"r\")\n",
        "print(f.read())\n",
        "f.close()\n"
      ]
    },
    {
      "cell_type": "markdown",
      "id": "FLhI_MgJ4pSt",
      "metadata": {
        "id": "FLhI_MgJ4pSt"
      },
      "source": [
        " 74)Write a Python program to read first n lines of a file."
      ]
    },
    {
      "cell_type": "code",
      "execution_count": 30,
      "id": "D7HSIPX0Nqn8",
      "metadata": {
        "id": "D7HSIPX0Nqn8"
      },
      "outputs": [
        {
          "name": "stdout",
          "output_type": "stream",
          "text": [
            "\n",
            "hello \n",
            "good morning\n"
          ]
        }
      ],
      "source": [
        "n = 3\n",
        "f = open(\"test.txt\", \"r\")\n",
        "for i in range(n):\n",
        "    print(f.readline(), end=\"\")\n",
        "f.close()\n"
      ]
    },
    {
      "cell_type": "markdown",
      "id": "9kHsYizW4pPu",
      "metadata": {
        "id": "9kHsYizW4pPu"
      },
      "source": [
        " 75)Write a Python program to read last n lines of a file."
      ]
    },
    {
      "cell_type": "code",
      "execution_count": 31,
      "id": "i4mVn451NskC",
      "metadata": {
        "id": "i4mVn451NskC"
      },
      "outputs": [
        {
          "name": "stdout",
          "output_type": "stream",
          "text": [
            "good morning\n",
            "how are you\n",
            "Appended line\n"
          ]
        }
      ],
      "source": [
        "n = 3\n",
        "f = open(\"test.txt\", \"r\")\n",
        "lines = f.readlines()\n",
        "for line in lines[-n:]:\n",
        "    print(line, end=\"\")\n",
        "f.close()\n"
      ]
    },
    {
      "cell_type": "markdown",
      "id": "krzrBZdO4pMa",
      "metadata": {
        "id": "krzrBZdO4pMa"
      },
      "source": [
        " 76)Write a Python program to read a file line by line and store it into a list"
      ]
    },
    {
      "cell_type": "code",
      "execution_count": 41,
      "id": "zFAAUdz8NvOy",
      "metadata": {
        "id": "zFAAUdz8NvOy"
      },
      "outputs": [
        {
          "name": "stdout",
          "output_type": "stream",
          "text": [
            "['apple\\n', 'banana\\n', 'cherry\\n']\n"
          ]
        }
      ],
      "source": [
        "f = open(\"test.txt\", \"r\")\n",
        "lines = f.readlines()\n",
        "print(lines)\n",
        "f.close()\n"
      ]
    },
    {
      "cell_type": "markdown",
      "id": "p_gXetnE4pI4",
      "metadata": {
        "id": "p_gXetnE4pI4"
      },
      "source": [
        "77)Write a Python program to read a file line by line store it into a variable."
      ]
    },
    {
      "cell_type": "code",
      "execution_count": 33,
      "id": "_XuoFbsgNw7q",
      "metadata": {
        "id": "_XuoFbsgNw7q"
      },
      "outputs": [
        {
          "name": "stdout",
          "output_type": "stream",
          "text": [
            "\n",
            "hello \n",
            "good morning\n",
            "how are you\n",
            "Appended line\n",
            "\n"
          ]
        }
      ],
      "source": [
        "f = open(\"test.txt\", \"r\")\n",
        "data = f.read()\n",
        "print(data)\n",
        "f.close()\n"
      ]
    },
    {
      "cell_type": "markdown",
      "id": "95fx-UFG4o-Q",
      "metadata": {
        "id": "95fx-UFG4o-Q"
      },
      "source": [
        "78)Write a python program to find the longest words."
      ]
    },
    {
      "cell_type": "code",
      "execution_count": 34,
      "id": "nSynHxTBNy-6",
      "metadata": {
        "id": "nSynHxTBNy-6"
      },
      "outputs": [
        {
          "name": "stdout",
          "output_type": "stream",
          "text": [
            "Appended\n"
          ]
        }
      ],
      "source": [
        "f = open(\"test.txt\", \"r\")\n",
        "words = f.read().split()\n",
        "longest = max(words, key=len)\n",
        "print(longest)\n",
        "f.close()\n"
      ]
    },
    {
      "cell_type": "markdown",
      "id": "9AttmRH14oeA",
      "metadata": {
        "id": "9AttmRH14oeA"
      },
      "source": [
        "79)Write a Python program to count the number of lines in a text file."
      ]
    },
    {
      "cell_type": "code",
      "execution_count": 35,
      "id": "2BV_Po6kN0ni",
      "metadata": {
        "colab": {
          "base_uri": "https://localhost:8080/",
          "height": 201
        },
        "id": "2BV_Po6kN0ni",
        "outputId": "797d0260-455b-43cb-c1e0-7a88dc762a61"
      },
      "outputs": [
        {
          "name": "stdout",
          "output_type": "stream",
          "text": [
            "5\n"
          ]
        }
      ],
      "source": [
        "f = open(\"test.txt\", \"r\")\n",
        "count = len(f.readlines())\n",
        "print(count)\n",
        "f.close()\n"
      ]
    },
    {
      "cell_type": "markdown",
      "id": "fWLmaBIv5Kx_",
      "metadata": {
        "id": "fWLmaBIv5Kx_"
      },
      "source": [
        " 80)Write a Python program to count the frequency of words in a file."
      ]
    },
    {
      "cell_type": "code",
      "execution_count": 37,
      "id": "D6OE5V4aN2PZ",
      "metadata": {
        "id": "D6OE5V4aN2PZ"
      },
      "outputs": [
        {
          "name": "stdout",
          "output_type": "stream",
          "text": [
            "Counter({'apple': 1, 'banana': 1, 'cherry': 1})\n"
          ]
        }
      ],
      "source": [
        "from collections import Counter\n",
        "f = open(\"test.txt\", \"r\")\n",
        "words = f.read().split()\n",
        "freq = Counter(words)\n",
        "print(freq)\n",
        "f.close()\n",
        "\n",
        "\n",
        "\n"
      ]
    },
    {
      "cell_type": "markdown",
      "id": "jSeOyVG65Kb_",
      "metadata": {
        "id": "jSeOyVG65Kb_"
      },
      "source": [
        "81)Write a Python program to write a list to a file."
      ]
    },
    {
      "cell_type": "code",
      "execution_count": 42,
      "id": "3EdXzubmN51J",
      "metadata": {
        "id": "3EdXzubmN51J"
      },
      "outputs": [],
      "source": [
        "lst = [\"apple\", \"banana\", \"cherry\"]\n",
        "f = open(\"test-list.txt\", \"w\")\n",
        "for item in lst:\n",
        "    f.write(item + \"\\n\")\n",
        "f.close()\n",
        "\n",
        "\n"
      ]
    },
    {
      "cell_type": "markdown",
      "id": "i-96Qn5N5KQH",
      "metadata": {
        "id": "i-96Qn5N5KQH"
      },
      "source": [
        "82)Write a Python program to copy the contents of a file to another file."
      ]
    },
    {
      "cell_type": "code",
      "execution_count": 40,
      "id": "bhz3_MyyOJmy",
      "metadata": {
        "id": "bhz3_MyyOJmy"
      },
      "outputs": [],
      "source": [
        "f1 = open(\"test.txt\", \"r\")\n",
        "f2 = open(\"copy.txt\", \"w\")\n",
        "f2.write(f1.read())\n",
        "f1.close()\n",
        "f2.close()\n"
      ]
    },
    {
      "cell_type": "markdown",
      "id": "EkX4FsGX5KBX",
      "metadata": {
        "id": "EkX4FsGX5KBX"
      },
      "source": [
        " 83)Explain Exception handling? What is an Error in Python? \\\n",
        " Ans. Exception handling is a way to handle runtime errors using try-except. \\\n",
        "  Errors are unexpected issues that stop program execution (e.g., ZeroDivisionError)."
      ]
    },
    {
      "cell_type": "markdown",
      "id": "XCJALcsl5JHZ",
      "metadata": {
        "id": "XCJALcsl5JHZ"
      },
      "source": [
        "84)How many except statements can a try-except block have? Name Some built-in exception classes: \\\n",
        "Ans. Any number of except blocks are allowed. \\\n",
        " Examples: ZeroDivisionError, ValueError, TypeError, IndexError, KeyError."
      ]
    },
    {
      "cell_type": "markdown",
      "id": "kpq4_k-y5yTH",
      "metadata": {
        "id": "kpq4_k-y5yTH"
      },
      "source": [
        "85)When will the else part of try-except-else be executed? \\\n",
        "Ans. Executed only if no exception occurs in the try block."
      ]
    },
    {
      "cell_type": "markdown",
      "id": "pydXT1V_5x5w",
      "metadata": {
        "id": "pydXT1V_5x5w"
      },
      "source": [
        "86)Can one block of except statements handle multiple exception? \\\n",
        "Ans. Yes, by using a tuple: except (TypeError, ValueError)"
      ]
    },
    {
      "cell_type": "markdown",
      "id": "9g6Qquax5xpY",
      "metadata": {
        "id": "9g6Qquax5xpY"
      },
      "source": [
        "87)When is the finally block executed? \\\n",
        "Ans. Always executed, whether an exception occurs or not."
      ]
    },
    {
      "cell_type": "markdown",
      "id": "053hhIrd5xiv",
      "metadata": {
        "id": "053hhIrd5xiv"
      },
      "source": [
        "88)What happens when \"1\"== 1 is executed? \\\n",
        "Ans. Returns False (string \"1\" is not equal to integer 1)."
      ]
    },
    {
      "cell_type": "markdown",
      "id": "nnV3BWYF5xY_",
      "metadata": {
        "id": "nnV3BWYF5xY_"
      },
      "source": [
        "89)How Do You Handle Exceptions with Try/Except/Finally in Python?\n",
        "Explain with coding snippets"
      ]
    },
    {
      "cell_type": "code",
      "execution_count": null,
      "id": "6kCuTk_dORVp",
      "metadata": {
        "id": "6kCuTk_dORVp"
      },
      "outputs": [],
      "source": [
        "try:\n",
        "    x = 10 / 0\n",
        "except ZeroDivisionError:\n",
        "    print(\"Division by zero not allowed\")\n",
        "else:\n",
        "    print(\"No error\")\n",
        "finally:\n",
        "    print(\"Always executed\")\n"
      ]
    },
    {
      "cell_type": "markdown",
      "id": "mNjF_FH_5xN_",
      "metadata": {
        "id": "mNjF_FH_5xN_"
      },
      "source": [
        "90)Write python program that user to enter only odd numbers, else\n",
        "will raise an exception."
      ]
    },
    {
      "cell_type": "code",
      "execution_count": null,
      "id": "0WkxrU3yOTrB",
      "metadata": {
        "id": "0WkxrU3yOTrB"
      },
      "outputs": [],
      "source": [
        "try:\n",
        "    n = int(input(\"Enter odd number: \"))\n",
        "    if n % 2 == 0:\n",
        "        raise ValueError(\"Not an odd number\")\n",
        "    print(\"Valid odd number:\", n)\n",
        "except ValueError as e:\n",
        "    print(e)\n"
      ]
    }
  ],
  "metadata": {
    "colab": {
      "provenance": []
    },
    "kernelspec": {
      "display_name": "Python 3",
      "language": "python",
      "name": "python3"
    },
    "language_info": {
      "codemirror_mode": {
        "name": "ipython",
        "version": 3
      },
      "file_extension": ".py",
      "mimetype": "text/x-python",
      "name": "python",
      "nbconvert_exporter": "python",
      "pygments_lexer": "ipython3",
      "version": "3.12.3"
    }
  },
  "nbformat": 4,
  "nbformat_minor": 5
}
